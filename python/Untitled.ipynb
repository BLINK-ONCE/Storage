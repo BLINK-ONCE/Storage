{
 "cells": [
  {
   "cell_type": "code",
   "execution_count": 345,
   "id": "097b47b2",
   "metadata": {
    "scrolled": true
   },
   "outputs": [],
   "source": [
    "from IPython.core.interactiveshell import InteractiveShell\n",
    "InteractiveShell.ast_node_interactivity = \"all\""
   ]
  },
  {
   "cell_type": "code",
   "execution_count": 346,
   "id": "6a04191d",
   "metadata": {
    "scrolled": true
   },
   "outputs": [],
   "source": [
    "import random\n",
    "import numpy as np\n",
    "import pandas as pd\n",
    "import scipy.special\n",
    "import matplotlib.pyplot as plt"
   ]
  },
  {
   "cell_type": "code",
   "execution_count": 347,
   "id": "207ea345",
   "metadata": {
    "scrolled": true
   },
   "outputs": [],
   "source": [
    "class neuralNetwork:\n",
    "    def __init__(self, inputnodes, hiddennodes, outputnodes, learningrate):\n",
    "        # make nodes. input nodes, hidden nodes, output nodes\n",
    "        self.inodes = inputnodes\n",
    "        self.hnodes = hiddennodes\n",
    "        self.onodes = outputnodes\n",
    "        \n",
    "        # make weights. by normal distribution\n",
    "        self.wih = np.random.normal(0.0, pow(self.hnodes, -0.5), (self.hnodes, self.inodes))\n",
    "        self.who = np.random.normal(0.0, pow(self.onodes, -0.5), (self.onodes, self.hnodes))\n",
    "        \n",
    "        # self.output_delta = np.zeros(outputnodes) + 1e-7\n",
    "        # self.hidden_delta = np.zeros(outputnodes) + 1e-7\n",
    "        \n",
    "        # set learning rate\n",
    "        self.lr = learningrate\n",
    "        \n",
    "        self.sigmoid = lambda x: 1 / (1 + np.exp(-x))\n",
    "        # self.grad_sigmoid = lambda x: self.sigmoid(x) * (1.0 - self.sigmoid(x))\n",
    "        \n",
    "        # self.getError = lambda y, t: y - t\n",
    "        # self.mse = lambda y, t: (1/2) * np.sum((y - t) ** 2)\n",
    "        # self.mse = lambda y, t: np.mean(np.square(t - y))\n",
    "        # self.cross_entropy = lambda y, t, d: -np.sum(t * np.log(y + d)) / y.shape[0]\n",
    "        # self.mse_rm = lambda y, t: 2/2 * (y - t)\n",
    "        # self.deriv_mse = lambda w, x, t: np.dot((np.dot(w, x) - t), x.T)\n",
    "        # self.mse_deriv = lambda t, a2, z, a1: - (t - a2) * self.sigmoid(z) * (1.0 - self.sigmoid(z)) * a1\n",
    "        # self.mse_deriv2 = lambda a1, z, a0: a1 * self.sigmoid(z) * (1.0 - self.sigmoid(z)) * a0\n",
    "        \n",
    "        self.mse_doda = lambda t, a: (t - a)\n",
    "        self.mse_dadz = lambda z: self.sigmoid(z) * self.sigmoid(z)\n",
    "        self.mse_dzdw = lambda a: a\n",
    "        \n",
    "        \n",
    "        pass\n",
    "    \n",
    "    def train(self, inputs_list, targets_list):\n",
    "        inputs = np.array(inputs_list, ndmin = 2).T\n",
    "        targets = np.array(targets_list, ndmin = 2).T\n",
    "        \n",
    "        hidden_inputs = np.dot(self.wih, inputs)\n",
    "        hidden_outputs = self.sigmoid(hidden_inputs)\n",
    "        \n",
    "        final_inputs = np.dot(self.who, hidden_outputs)\n",
    "        final_outputs = self.sigmoid(final_inputs)\n",
    "       \n",
    "    \n",
    "        # get error\n",
    "        \n",
    "        output_errors = - np.dot(np.dot(self.mse_doda(targets_list, final_outputs.T), self.mse_dadz(final_inputs)), self.mse_dzdw(hidden_outputs).T)\n",
    "        hidden_errors = np.dot(np.dot(output_errors, self.mse_dadz(hidden_inputs)), self.mse_dzdw(inputs).T)\n",
    "        \n",
    "        \n",
    "        # output_errors = self.mse_deriv(targets_list, final_outputs, final_inputs, hidden_outputs)\n",
    "        # hidden_errors = self.mse_deriv2(output_errors, hidden_inputs, inputs)\n",
    "        \n",
    "        \n",
    "        \"\"\"\n",
    "        output_errors = self.deriv_mse(self.who, hidden_outputs, targets_list)\n",
    "        hidden_errors = np.dot(self.who.T, output_errors)\n",
    "        \"\"\"\n",
    "        \n",
    "        \n",
    "        \"\"\"\n",
    "        self.output_delta = self.mse_rm(final_outputs, targets_list)\n",
    "        output_errors = np.dot(self.output_delta, np.transpose(hidden_outputs))\n",
    "        delta = 0.0\n",
    "        delta = delta + np.dot(np.transpose(self.output_delta), self.who)\n",
    "        self.hidden_delta = self.mse_rm(delta, self.who)\n",
    "        hidden_errors = np.dot(self.hidden_delta, inputs)\n",
    "        \"\"\"\n",
    "        \n",
    "        # self.output_delta = np.dot(np.subtract(final_outputs, targets_list), np.transpose(self.grad_sigmoid(final_inputs)))\n",
    "        # output_errors = np.dot(self.output_delta, hidden_outputs)\n",
    "        # hidden_delta = 0.0\n",
    "        # hidden_delta = hidden_delta + np.dot(self.output_delta, self.who)\n",
    "        # self.hidden_delta = np.dot(hidden_delta, self.grad_sigmoid(hidden_inputs))\n",
    "        # hidden_errors = np.dot(self.hidden_delta, np.transpose(inputs))\n",
    "        \n",
    "        \n",
    "        # update weight\n",
    "        self.who = self.who - output_errors * self.lr\n",
    "        self.wih = self.wih - hidden_errors * self.lr\n",
    "        \n",
    "        \n",
    "        pass\n",
    "        \n",
    "    def query(self, inputs_list):\n",
    "        inputs = np.array(inputs_list, ndmin = 2).T\n",
    "        \n",
    "        hidden_inputs = np.dot(self.wih, inputs)\n",
    "        hidden_outputs = self.sigmoid(hidden_inputs)\n",
    "        \n",
    "        final_inputs = np.dot(self.who, hidden_outputs)\n",
    "        final_outputs = self.sigmoid(final_inputs)\n",
    "        \n",
    "        return final_outputs"
   ]
  },
  {
   "cell_type": "code",
   "execution_count": 348,
   "id": "8f96a8bb",
   "metadata": {
    "scrolled": true
   },
   "outputs": [],
   "source": [
    "input_nodes = 2\n",
    "hidden_nodes = 2\n",
    "output_nodes = 2\n",
    "\n",
    "learning_rate = 0.01\n",
    "\n",
    "n = neuralNetwork(input_nodes, hidden_nodes, output_nodes, learning_rate)"
   ]
  },
  {
   "cell_type": "code",
   "execution_count": 349,
   "id": "6297f7ef",
   "metadata": {
    "scrolled": true
   },
   "outputs": [],
   "source": [
    "training_data_list = [[3.5064385449265267, 2.34547092892632525, 0],\n",
    "                   [4.384621956392097, 3.4530853889904205, 0],\n",
    "                   [4.841442919897487, 4.02507852317520154, 0],\n",
    "                   [3.5985868973088437, 4.1621314217538705, 0],\n",
    "                   [2.887219775424049, 3.31523082529190005, 0],\n",
    "                   [9.79822645535526, 1.1052409596099566, 1],\n",
    "                   [7.8261241795117422, 0.6711054766067182, 1],\n",
    "                   [2.5026163932400305, 5.800780055043912, 1],\n",
    "                   [5.032436157202415, 8.650625621472184, 1],\n",
    "                   [4.095084253434162, 7.69104329159447, 1]]"
   ]
  },
  {
   "cell_type": "code",
   "execution_count": 350,
   "id": "ae5dd815",
   "metadata": {
    "scrolled": true
   },
   "outputs": [],
   "source": [
    "test_data_list = [[3.5064385449265267, 2.34547092892632525, 0],\n",
    "                   [4.384621956392097, 3.4530853889904205, 0],\n",
    "                   [4.841442919897487, 4.02507852317520154, 0],\n",
    "                   [3.5985868973088437, 4.1621314217538705, 0],\n",
    "                   [2.887219775424049, 3.31523082529190005, 0],\n",
    "                   [9.79822645535526, 1.1052409596099566, 1],\n",
    "                   [7.8261241795117422, 0.6711054766067182, 1],\n",
    "                   [2.5026163932400305, 5.800780055043912, 1],\n",
    "                   [5.032436157202415, 8.650625621472184, 1],\n",
    "                   [4.095084253434162, 7.69104329159447, 1]]"
   ]
  },
  {
   "cell_type": "code",
   "execution_count": 351,
   "id": "cf173ee0",
   "metadata": {},
   "outputs": [
    {
     "name": "stdout",
     "output_type": "stream",
     "text": [
      "--------------------------------------\n",
      "epochs: 0\n"
     ]
    },
    {
     "data": {
      "text/plain": [
       "[4.095084253434162, 7.69104329159447, 1]"
      ]
     },
     "execution_count": 351,
     "metadata": {},
     "output_type": "execute_result"
    },
    {
     "data": {
      "text/plain": [
       "array([4.09508425, 7.69104329])"
      ]
     },
     "execution_count": 351,
     "metadata": {},
     "output_type": "execute_result"
    },
    {
     "name": "stdout",
     "output_type": "stream",
     "text": [
      "1.0\n"
     ]
    },
    {
     "data": {
      "text/plain": [
       "array([[0.45617661],\n",
       "       [0.6577931 ]])"
      ]
     },
     "execution_count": 351,
     "metadata": {},
     "output_type": "execute_result"
    },
    {
     "name": "stdout",
     "output_type": "stream",
     "text": [
      "0       correct label\n",
      "1        prediction\n",
      "\n"
     ]
    },
    {
     "data": {
      "text/plain": [
       "array([[0.45323134],\n",
       "       [0.6617189 ]])"
      ]
     },
     "execution_count": 351,
     "metadata": {},
     "output_type": "execute_result"
    },
    {
     "name": "stdout",
     "output_type": "stream",
     "text": [
      "0       correct label\n",
      "1        prediction\n",
      "\n"
     ]
    },
    {
     "data": {
      "text/plain": [
       "array([[0.45256321],\n",
       "       [0.66256011]])"
      ]
     },
     "execution_count": 351,
     "metadata": {},
     "output_type": "execute_result"
    },
    {
     "name": "stdout",
     "output_type": "stream",
     "text": [
      "0       correct label\n",
      "1        prediction\n",
      "\n"
     ]
    },
    {
     "data": {
      "text/plain": [
       "array([[0.45401451],\n",
       "       [0.66079654]])"
      ]
     },
     "execution_count": 351,
     "metadata": {},
     "output_type": "execute_result"
    },
    {
     "name": "stdout",
     "output_type": "stream",
     "text": [
      "0       correct label\n",
      "1        prediction\n",
      "\n"
     ]
    },
    {
     "data": {
      "text/plain": [
       "array([[0.45701214],\n",
       "       [0.65698296]])"
      ]
     },
     "execution_count": 351,
     "metadata": {},
     "output_type": "execute_result"
    },
    {
     "name": "stdout",
     "output_type": "stream",
     "text": [
      "0       correct label\n",
      "1        prediction\n",
      "\n"
     ]
    },
    {
     "data": {
      "text/plain": [
       "array([[0.45167473],\n",
       "       [0.66363224]])"
      ]
     },
     "execution_count": 351,
     "metadata": {},
     "output_type": "execute_result"
    },
    {
     "name": "stdout",
     "output_type": "stream",
     "text": [
      "1       correct label\n",
      "1        prediction\n",
      "\n"
     ]
    },
    {
     "data": {
      "text/plain": [
       "array([[0.45189809],\n",
       "       [0.66330639]])"
      ]
     },
     "execution_count": 351,
     "metadata": {},
     "output_type": "execute_result"
    },
    {
     "name": "stdout",
     "output_type": "stream",
     "text": [
      "1       correct label\n",
      "1        prediction\n",
      "\n"
     ]
    },
    {
     "data": {
      "text/plain": [
       "array([[0.45505634],\n",
       "       [0.65960663]])"
      ]
     },
     "execution_count": 351,
     "metadata": {},
     "output_type": "execute_result"
    },
    {
     "name": "stdout",
     "output_type": "stream",
     "text": [
      "1       correct label\n",
      "1        prediction\n",
      "\n"
     ]
    },
    {
     "data": {
      "text/plain": [
       "array([[0.4518264 ],\n",
       "       [0.66346243]])"
      ]
     },
     "execution_count": 351,
     "metadata": {},
     "output_type": "execute_result"
    },
    {
     "name": "stdout",
     "output_type": "stream",
     "text": [
      "1       correct label\n",
      "1        prediction\n",
      "\n"
     ]
    },
    {
     "data": {
      "text/plain": [
       "array([[0.45218534],\n",
       "       [0.66303808]])"
      ]
     },
     "execution_count": 351,
     "metadata": {},
     "output_type": "execute_result"
    },
    {
     "name": "stdout",
     "output_type": "stream",
     "text": [
      "1       correct label\n",
      "1        prediction\n",
      "\n",
      "performance = 0.5 \n",
      "\n",
      "\n",
      "\n",
      "--------------------------------------\n",
      "epochs: 2\n"
     ]
    },
    {
     "data": {
      "text/plain": [
       "[4.095084253434162, 7.69104329159447, 1]"
      ]
     },
     "execution_count": 351,
     "metadata": {},
     "output_type": "execute_result"
    },
    {
     "data": {
      "text/plain": [
       "array([4.09508425, 7.69104329])"
      ]
     },
     "execution_count": 351,
     "metadata": {},
     "output_type": "execute_result"
    },
    {
     "name": "stdout",
     "output_type": "stream",
     "text": [
      "1.0\n"
     ]
    },
    {
     "data": {
      "text/plain": [
       "array([[0.45332504],\n",
       "       [0.65511102]])"
      ]
     },
     "execution_count": 351,
     "metadata": {},
     "output_type": "execute_result"
    },
    {
     "name": "stdout",
     "output_type": "stream",
     "text": [
      "0       correct label\n",
      "1        prediction\n",
      "\n"
     ]
    },
    {
     "data": {
      "text/plain": [
       "array([[0.45034429],\n",
       "       [0.65906967]])"
      ]
     },
     "execution_count": 351,
     "metadata": {},
     "output_type": "execute_result"
    },
    {
     "name": "stdout",
     "output_type": "stream",
     "text": [
      "0       correct label\n",
      "1        prediction\n",
      "\n"
     ]
    },
    {
     "data": {
      "text/plain": [
       "array([[0.44966894],\n",
       "       [0.65992077]])"
      ]
     },
     "execution_count": 351,
     "metadata": {},
     "output_type": "execute_result"
    },
    {
     "name": "stdout",
     "output_type": "stream",
     "text": [
      "0       correct label\n",
      "1        prediction\n",
      "\n"
     ]
    },
    {
     "data": {
      "text/plain": [
       "array([[0.45111273],\n",
       "       [0.65815792]])"
      ]
     },
     "execution_count": 351,
     "metadata": {},
     "output_type": "execute_result"
    },
    {
     "name": "stdout",
     "output_type": "stream",
     "text": [
      "0       correct label\n",
      "1        prediction\n",
      "\n"
     ]
    },
    {
     "data": {
      "text/plain": [
       "array([[0.45411624],\n",
       "       [0.65433135]])"
      ]
     },
     "execution_count": 351,
     "metadata": {},
     "output_type": "execute_result"
    },
    {
     "name": "stdout",
     "output_type": "stream",
     "text": [
      "0       correct label\n",
      "1        prediction\n",
      "\n"
     ]
    },
    {
     "data": {
      "text/plain": [
       "array([[0.44877375],\n",
       "       [0.66100631]])"
      ]
     },
     "execution_count": 351,
     "metadata": {},
     "output_type": "execute_result"
    },
    {
     "name": "stdout",
     "output_type": "stream",
     "text": [
      "1       correct label\n",
      "1        prediction\n",
      "\n"
     ]
    },
    {
     "data": {
      "text/plain": [
       "array([[0.44900657],\n",
       "       [0.66067423]])"
      ]
     },
     "execution_count": 351,
     "metadata": {},
     "output_type": "execute_result"
    },
    {
     "name": "stdout",
     "output_type": "stream",
     "text": [
      "1       correct label\n",
      "1        prediction\n",
      "\n"
     ]
    },
    {
     "data": {
      "text/plain": [
       "array([[0.45209697],\n",
       "       [0.65702535]])"
      ]
     },
     "execution_count": 351,
     "metadata": {},
     "output_type": "execute_result"
    },
    {
     "name": "stdout",
     "output_type": "stream",
     "text": [
      "1       correct label\n",
      "1        prediction\n",
      "\n"
     ]
    },
    {
     "data": {
      "text/plain": [
       "array([[0.44891964],\n",
       "       [0.6608411 ]])"
      ]
     },
     "execution_count": 351,
     "metadata": {},
     "output_type": "execute_result"
    },
    {
     "name": "stdout",
     "output_type": "stream",
     "text": [
      "1       correct label\n",
      "1        prediction\n",
      "\n"
     ]
    },
    {
     "data": {
      "text/plain": [
       "array([[0.44927246],\n",
       "       [0.66042134]])"
      ]
     },
     "execution_count": 351,
     "metadata": {},
     "output_type": "execute_result"
    },
    {
     "name": "stdout",
     "output_type": "stream",
     "text": [
      "1       correct label\n",
      "1        prediction\n",
      "\n",
      "performance = 0.5 \n",
      "\n",
      "\n",
      "\n",
      "--------------------------------------\n",
      "epochs: 4\n"
     ]
    },
    {
     "data": {
      "text/plain": [
       "[4.095084253434162, 7.69104329159447, 1]"
      ]
     },
     "execution_count": 351,
     "metadata": {},
     "output_type": "execute_result"
    },
    {
     "data": {
      "text/plain": [
       "array([4.09508425, 7.69104329])"
      ]
     },
     "execution_count": 351,
     "metadata": {},
     "output_type": "execute_result"
    },
    {
     "name": "stdout",
     "output_type": "stream",
     "text": [
      "1.0\n"
     ]
    },
    {
     "data": {
      "text/plain": [
       "array([[0.45061263],\n",
       "       [0.65247779]])"
      ]
     },
     "execution_count": 351,
     "metadata": {},
     "output_type": "execute_result"
    },
    {
     "name": "stdout",
     "output_type": "stream",
     "text": [
      "0       correct label\n",
      "1        prediction\n",
      "\n"
     ]
    },
    {
     "data": {
      "text/plain": [
       "array([[0.44758141],\n",
       "       [0.6564859 ]])"
      ]
     },
     "execution_count": 351,
     "metadata": {},
     "output_type": "execute_result"
    },
    {
     "name": "stdout",
     "output_type": "stream",
     "text": [
      "0       correct label\n",
      "1        prediction\n",
      "\n"
     ]
    },
    {
     "data": {
      "text/plain": [
       "array([[0.44689348],\n",
       "       [0.65735301]])"
      ]
     },
     "execution_count": 351,
     "metadata": {},
     "output_type": "execute_result"
    },
    {
     "name": "stdout",
     "output_type": "stream",
     "text": [
      "0       correct label\n",
      "1        prediction\n",
      "\n"
     ]
    },
    {
     "data": {
      "text/plain": [
       "array([[0.4483426 ],\n",
       "       [0.65557621]])"
      ]
     },
     "execution_count": 351,
     "metadata": {},
     "output_type": "execute_result"
    },
    {
     "name": "stdout",
     "output_type": "stream",
     "text": [
      "0       correct label\n",
      "1        prediction\n",
      "\n"
     ]
    },
    {
     "data": {
      "text/plain": [
       "array([[0.45136874],\n",
       "       [0.65171816]])"
      ]
     },
     "execution_count": 351,
     "metadata": {},
     "output_type": "execute_result"
    },
    {
     "name": "stdout",
     "output_type": "stream",
     "text": [
      "0       correct label\n",
      "1        prediction\n",
      "\n"
     ]
    },
    {
     "data": {
      "text/plain": [
       "array([[0.44598114],\n",
       "       [0.65846411]])"
      ]
     },
     "execution_count": 351,
     "metadata": {},
     "output_type": "execute_result"
    },
    {
     "name": "stdout",
     "output_type": "stream",
     "text": [
      "1       correct label\n",
      "1        prediction\n",
      "\n"
     ]
    },
    {
     "data": {
      "text/plain": [
       "array([[0.44622571],\n",
       "       [0.65812295]])"
      ]
     },
     "execution_count": 351,
     "metadata": {},
     "output_type": "execute_result"
    },
    {
     "name": "stdout",
     "output_type": "stream",
     "text": [
      "1       correct label\n",
      "1        prediction\n",
      "\n"
     ]
    },
    {
     "data": {
      "text/plain": [
       "array([[0.44928226],\n",
       "       [0.65448619]])"
      ]
     },
     "execution_count": 351,
     "metadata": {},
     "output_type": "execute_result"
    },
    {
     "name": "stdout",
     "output_type": "stream",
     "text": [
      "1       correct label\n",
      "1        prediction\n",
      "\n"
     ]
    },
    {
     "data": {
      "text/plain": [
       "array([[0.4461241 ],\n",
       "       [0.65830025]])"
      ]
     },
     "execution_count": 351,
     "metadata": {},
     "output_type": "execute_result"
    },
    {
     "name": "stdout",
     "output_type": "stream",
     "text": [
      "1       correct label\n",
      "1        prediction\n",
      "\n"
     ]
    },
    {
     "data": {
      "text/plain": [
       "array([[0.44647594],\n",
       "       [0.65787908]])"
      ]
     },
     "execution_count": 351,
     "metadata": {},
     "output_type": "execute_result"
    },
    {
     "name": "stdout",
     "output_type": "stream",
     "text": [
      "1       correct label\n",
      "1        prediction\n",
      "\n",
      "performance = 0.5 \n",
      "\n",
      "\n",
      "\n",
      "--------------------------------------\n",
      "epochs: 6\n"
     ]
    },
    {
     "data": {
      "text/plain": [
       "[4.095084253434162, 7.69104329159447, 1]"
      ]
     },
     "execution_count": 351,
     "metadata": {},
     "output_type": "execute_result"
    },
    {
     "data": {
      "text/plain": [
       "array([4.09508425, 7.69104329])"
      ]
     },
     "execution_count": 351,
     "metadata": {},
     "output_type": "execute_result"
    },
    {
     "name": "stdout",
     "output_type": "stream",
     "text": [
      "1.0\n"
     ]
    },
    {
     "data": {
      "text/plain": [
       "array([[0.44803434],\n",
       "       [0.64988863]])"
      ]
     },
     "execution_count": 351,
     "metadata": {},
     "output_type": "execute_result"
    },
    {
     "name": "stdout",
     "output_type": "stream",
     "text": [
      "0       correct label\n",
      "1        prediction\n",
      "\n"
     ]
    },
    {
     "data": {
      "text/plain": [
       "array([[0.44493791],\n",
       "       [0.65396367]])"
      ]
     },
     "execution_count": 351,
     "metadata": {},
     "output_type": "execute_result"
    },
    {
     "name": "stdout",
     "output_type": "stream",
     "text": [
      "0       correct label\n",
      "1        prediction\n",
      "\n"
     ]
    },
    {
     "data": {
      "text/plain": [
       "array([[0.44423207],\n",
       "       [0.65485313]])"
      ]
     },
     "execution_count": 351,
     "metadata": {},
     "output_type": "execute_result"
    },
    {
     "name": "stdout",
     "output_type": "stream",
     "text": [
      "0       correct label\n",
      "1        prediction\n",
      "\n"
     ]
    },
    {
     "data": {
      "text/plain": [
       "array([[0.44569866],\n",
       "       [0.65304816]])"
      ]
     },
     "execution_count": 351,
     "metadata": {},
     "output_type": "execute_result"
    },
    {
     "name": "stdout",
     "output_type": "stream",
     "text": [
      "0       correct label\n",
      "1        prediction\n",
      "\n"
     ]
    },
    {
     "data": {
      "text/plain": [
       "array([[0.44876337],\n",
       "       [0.64914022]])"
      ]
     },
     "execution_count": 351,
     "metadata": {},
     "output_type": "execute_result"
    },
    {
     "name": "stdout",
     "output_type": "stream",
     "text": [
      "0       correct label\n",
      "1        prediction\n",
      "\n"
     ]
    },
    {
     "data": {
      "text/plain": [
       "array([[0.44329219],\n",
       "       [0.65600224]])"
      ]
     },
     "execution_count": 351,
     "metadata": {},
     "output_type": "execute_result"
    },
    {
     "name": "stdout",
     "output_type": "stream",
     "text": [
      "1       correct label\n",
      "1        prediction\n",
      "\n"
     ]
    },
    {
     "data": {
      "text/plain": [
       "array([[0.44355115],\n",
       "       [0.65564848]])"
      ]
     },
     "execution_count": 351,
     "metadata": {},
     "output_type": "execute_result"
    },
    {
     "name": "stdout",
     "output_type": "stream",
     "text": [
      "1       correct label\n",
      "1        prediction\n",
      "\n"
     ]
    },
    {
     "data": {
      "text/plain": [
       "array([[0.44660475],\n",
       "       [0.65198809]])"
      ]
     },
     "execution_count": 351,
     "metadata": {},
     "output_type": "execute_result"
    },
    {
     "name": "stdout",
     "output_type": "stream",
     "text": [
      "1       correct label\n",
      "1        prediction\n",
      "\n"
     ]
    },
    {
     "data": {
      "text/plain": [
       "array([[0.44343473],\n",
       "       [0.6558368 ]])"
      ]
     },
     "execution_count": 351,
     "metadata": {},
     "output_type": "execute_result"
    },
    {
     "name": "stdout",
     "output_type": "stream",
     "text": [
      "1       correct label\n",
      "1        prediction\n",
      "\n"
     ]
    },
    {
     "data": {
      "text/plain": [
       "array([[0.44379043],\n",
       "       [0.65540851]])"
      ]
     },
     "execution_count": 351,
     "metadata": {},
     "output_type": "execute_result"
    },
    {
     "name": "stdout",
     "output_type": "stream",
     "text": [
      "1       correct label\n",
      "1        prediction\n",
      "\n",
      "performance = 0.5 \n",
      "\n",
      "\n",
      "\n",
      "--------------------------------------\n",
      "epochs: 8\n"
     ]
    },
    {
     "data": {
      "text/plain": [
       "[4.095084253434162, 7.69104329159447, 1]"
      ]
     },
     "execution_count": 351,
     "metadata": {},
     "output_type": "execute_result"
    },
    {
     "data": {
      "text/plain": [
       "array([4.09508425, 7.69104329])"
      ]
     },
     "execution_count": 351,
     "metadata": {},
     "output_type": "execute_result"
    },
    {
     "name": "stdout",
     "output_type": "stream",
     "text": [
      "1.0\n"
     ]
    },
    {
     "data": {
      "text/plain": [
       "array([[0.44558638],\n",
       "       [0.64733799]])"
      ]
     },
     "execution_count": 351,
     "metadata": {},
     "output_type": "execute_result"
    },
    {
     "name": "stdout",
     "output_type": "stream",
     "text": [
      "0       correct label\n",
      "1        prediction\n",
      "\n"
     ]
    },
    {
     "data": {
      "text/plain": [
       "array([[0.4424099 ],\n",
       "       [0.65149859]])"
      ]
     },
     "execution_count": 351,
     "metadata": {},
     "output_type": "execute_result"
    },
    {
     "name": "stdout",
     "output_type": "stream",
     "text": [
      "0       correct label\n",
      "1        prediction\n",
      "\n"
     ]
    },
    {
     "data": {
      "text/plain": [
       "array([[0.44168071],\n",
       "       [0.65241715]])"
      ]
     },
     "execution_count": 351,
     "metadata": {},
     "output_type": "execute_result"
    },
    {
     "name": "stdout",
     "output_type": "stream",
     "text": [
      "0       correct label\n",
      "1        prediction\n",
      "\n"
     ]
    },
    {
     "data": {
      "text/plain": [
       "array([[0.44317655],\n",
       "       [0.65056981]])"
      ]
     },
     "execution_count": 351,
     "metadata": {},
     "output_type": "execute_result"
    },
    {
     "name": "stdout",
     "output_type": "stream",
     "text": [
      "0       correct label\n",
      "1        prediction\n",
      "\n"
     ]
    },
    {
     "data": {
      "text/plain": [
       "array([[0.44629528],\n",
       "       [0.64659332]])"
      ]
     },
     "execution_count": 351,
     "metadata": {},
     "output_type": "execute_result"
    },
    {
     "name": "stdout",
     "output_type": "stream",
     "text": [
      "0       correct label\n",
      "1        prediction\n",
      "\n"
     ]
    },
    {
     "data": {
      "text/plain": [
       "array([[0.44070255],\n",
       "       [0.65361741]])"
      ]
     },
     "execution_count": 351,
     "metadata": {},
     "output_type": "execute_result"
    },
    {
     "name": "stdout",
     "output_type": "stream",
     "text": [
      "1       correct label\n",
      "1        prediction\n",
      "\n"
     ]
    },
    {
     "data": {
      "text/plain": [
       "array([[0.44097904],\n",
       "       [0.65324674]])"
      ]
     },
     "execution_count": 351,
     "metadata": {},
     "output_type": "execute_result"
    },
    {
     "name": "stdout",
     "output_type": "stream",
     "text": [
      "1       correct label\n",
      "1        prediction\n",
      "\n"
     ]
    },
    {
     "data": {
      "text/plain": [
       "array([[0.44405854],\n",
       "       [0.64952879]])"
      ]
     },
     "execution_count": 351,
     "metadata": {},
     "output_type": "execute_result"
    },
    {
     "name": "stdout",
     "output_type": "stream",
     "text": [
      "1       correct label\n",
      "1        prediction\n",
      "\n"
     ]
    },
    {
     "data": {
      "text/plain": [
       "array([[0.44084701],\n",
       "       [0.65344768]])"
      ]
     },
     "execution_count": 351,
     "metadata": {},
     "output_type": "execute_result"
    },
    {
     "name": "stdout",
     "output_type": "stream",
     "text": [
      "1       correct label\n",
      "1        prediction\n",
      "\n"
     ]
    },
    {
     "data": {
      "text/plain": [
       "array([[0.44121128],\n",
       "       [0.65300655]])"
      ]
     },
     "execution_count": 351,
     "metadata": {},
     "output_type": "execute_result"
    },
    {
     "name": "stdout",
     "output_type": "stream",
     "text": [
      "1       correct label\n",
      "1        prediction\n",
      "\n",
      "performance = 0.5 \n",
      "\n",
      "\n",
      "\n"
     ]
    }
   ],
   "source": [
    "epochs = 10\n",
    "\n",
    "for i in range(epochs):\n",
    "    for record in training_data_list:\n",
    "        all_values = record\n",
    "    \n",
    "        inputs = (np.asfarray(all_values[0:2]))\n",
    "        \n",
    "        targets = (np.asfarray(all_values[2]))\n",
    "    \n",
    "        n.train(inputs, targets)\n",
    "        pass\n",
    "    if (i % 2 == 0):\n",
    "        print(\"--------------------------------------\")\n",
    "        print(\"epochs:\", i)\n",
    "        all_values\n",
    "        inputs\n",
    "        print(targets)\n",
    "        \n",
    "        scorecard = []\n",
    "\n",
    "        for record_ in test_data_list:\n",
    "            all_values_ = record_\n",
    "            correct_label_ = int(all_values_[2])\n",
    "            inputs_ = (np.asfarray(all_values_[0:2]))\n",
    "            outputs_ = n.query(inputs_)\n",
    "            label_ = np.argmax(outputs_)\n",
    "            \n",
    "            outputs_\n",
    "            \n",
    "            print(correct_label_, \"      correct label\")\n",
    "            print(label_, \"       prediction\\n\")\n",
    "            \n",
    "            \n",
    "            if label_ == correct_label_:\n",
    "                scorecard.append(1)\n",
    "            else:\n",
    "                scorecard.append(0)\n",
    "                pass\n",
    "            pass\n",
    "\n",
    "        scorecard_array = np.asarray(scorecard)\n",
    "        print(\"performance =\", scorecard_array.sum() / scorecard_array.size, \"\\n\\n\\n\")\n",
    "pass"
   ]
  },
  {
   "cell_type": "code",
   "execution_count": 352,
   "id": "433b88e9",
   "metadata": {},
   "outputs": [
    {
     "data": {
      "text/plain": [
       "array([[0.44441041],\n",
       "       [0.64607519]])"
      ]
     },
     "execution_count": 352,
     "metadata": {},
     "output_type": "execute_result"
    },
    {
     "name": "stdout",
     "output_type": "stream",
     "text": [
      "0       correct label\n",
      "1        prediction\n",
      "\n"
     ]
    },
    {
     "data": {
      "text/plain": [
       "array([[0.44118825],\n",
       "       [0.65028599]])"
      ]
     },
     "execution_count": 352,
     "metadata": {},
     "output_type": "execute_result"
    },
    {
     "name": "stdout",
     "output_type": "stream",
     "text": [
      "0       correct label\n",
      "1        prediction\n",
      "\n"
     ]
    },
    {
     "data": {
      "text/plain": [
       "array([[0.44044526],\n",
       "       [0.65122179]])"
      ]
     },
     "execution_count": 352,
     "metadata": {},
     "output_type": "execute_result"
    },
    {
     "name": "stdout",
     "output_type": "stream",
     "text": [
      "0       correct label\n",
      "1        prediction\n",
      "\n"
     ]
    },
    {
     "data": {
      "text/plain": [
       "array([[0.44196011],\n",
       "       [0.64934786]])"
      ]
     },
     "execution_count": 352,
     "metadata": {},
     "output_type": "execute_result"
    },
    {
     "name": "stdout",
     "output_type": "stream",
     "text": [
      "0       correct label\n",
      "1        prediction\n",
      "\n"
     ]
    },
    {
     "data": {
      "text/plain": [
       "array([[0.44511159],\n",
       "       [0.64532994]])"
      ]
     },
     "execution_count": 352,
     "metadata": {},
     "output_type": "execute_result"
    },
    {
     "name": "stdout",
     "output_type": "stream",
     "text": [
      "0       correct label\n",
      "1        prediction\n",
      "\n"
     ]
    },
    {
     "data": {
      "text/plain": [
       "array([[0.43944373],\n",
       "       [0.6524529 ]])"
      ]
     },
     "execution_count": 352,
     "metadata": {},
     "output_type": "execute_result"
    },
    {
     "name": "stdout",
     "output_type": "stream",
     "text": [
      "1       correct label\n",
      "1        prediction\n",
      "\n"
     ]
    },
    {
     "data": {
      "text/plain": [
       "array([[0.43973034],\n",
       "       [0.65207187]])"
      ]
     },
     "execution_count": 352,
     "metadata": {},
     "output_type": "execute_result"
    },
    {
     "name": "stdout",
     "output_type": "stream",
     "text": [
      "1       correct label\n",
      "1        prediction\n",
      "\n"
     ]
    },
    {
     "data": {
      "text/plain": [
       "array([[0.44283324],\n",
       "       [0.64831269]])"
      ]
     },
     "execution_count": 352,
     "metadata": {},
     "output_type": "execute_result"
    },
    {
     "name": "stdout",
     "output_type": "stream",
     "text": [
      "1       correct label\n",
      "1        prediction\n",
      "\n"
     ]
    },
    {
     "data": {
      "text/plain": [
       "array([[0.43959   ],\n",
       "       [0.65228002]])"
      ]
     },
     "execution_count": 352,
     "metadata": {},
     "output_type": "execute_result"
    },
    {
     "name": "stdout",
     "output_type": "stream",
     "text": [
      "1       correct label\n",
      "1        prediction\n",
      "\n"
     ]
    },
    {
     "data": {
      "text/plain": [
       "array([[0.43996035],\n",
       "       [0.65183027]])"
      ]
     },
     "execution_count": 352,
     "metadata": {},
     "output_type": "execute_result"
    },
    {
     "name": "stdout",
     "output_type": "stream",
     "text": [
      "1       correct label\n",
      "1        prediction\n",
      "\n",
      "performance = 0.5\n"
     ]
    }
   ],
   "source": [
    "scorecard = []\n",
    "\n",
    "for record in test_data_list:\n",
    "    all_values = record\n",
    "    correct_label = int(all_values[2])\n",
    "    inputs = (np.asfarray(all_values[0:2]))\n",
    "    outputs = n.query(inputs)\n",
    "    label = np.argmax(outputs)\n",
    "    \n",
    "    outputs\n",
    "            \n",
    "    print(correct_label, \"      correct label\")\n",
    "    print(label, \"       prediction\\n\")\n",
    "            \n",
    "    if label == correct_label:\n",
    "        scorecard.append(1)\n",
    "    else:\n",
    "        scorecard.append(0)\n",
    "        pass\n",
    "    pass\n",
    "\n",
    "scorecard_array = np.asarray(scorecard)\n",
    "print(\"performance =\", scorecard_array.sum() / scorecard_array.size)"
   ]
  }
 ],
 "metadata": {
  "kernelspec": {
   "display_name": "Python 3",
   "language": "python",
   "name": "python3"
  },
  "language_info": {
   "codemirror_mode": {
    "name": "ipython",
    "version": 3
   },
   "file_extension": ".py",
   "mimetype": "text/x-python",
   "name": "python",
   "nbconvert_exporter": "python",
   "pygments_lexer": "ipython3",
   "version": "3.8.5"
  }
 },
 "nbformat": 4,
 "nbformat_minor": 5
}
